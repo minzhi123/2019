{
 "cells": [
  {
   "cell_type": "markdown",
   "metadata": {},
   "source": [
    "<h1 align=center><font size=5>My Code</font></h1>\n",
    "<h1 align=center><font size=3>Minzhi Meng</font></h1>"
   ]
  },
  {
   "cell_type": "code",
   "execution_count": 1,
   "metadata": {},
   "outputs": [],
   "source": [
    "import numpy as np\n",
    "import pandas as pd\n",
    "import glob\n",
    "import os\n",
    "import os, zipfile\n",
    "os.chdir('C:/Users/zylwiuu/Desktop/ICAPdata')\n",
    "#path: C:\\Users\\zylwiuu\\Desktop\\ICAPdata"
   ]
  },
  {
   "cell_type": "markdown",
   "metadata": {},
   "source": [
    "<div class=\"alert alert-danger alertdanger\" style=\"margin-top: 20px\">\n",
    "<p>Unzip the folders</p>"
   ]
  },
  {
   "cell_type": "code",
   "execution_count": 2,
   "metadata": {},
   "outputs": [],
   "source": [
    "dir_name = 'C:/Users/zylwiuu/Desktop/ICAPdata'\n",
    "extension = '.zip'\n",
    "\n",
    "os.chdir(dir_name) # change directory from working dir to dir with files\n",
    "\n",
    "for item in os.listdir(dir_name): # loop through items in dir\n",
    "    if item.endswith(extension): # check for \".zip\" extension\n",
    "        file_name = os.path.abspath(item) # get full path of files\n",
    "        zip_ref = zipfile.ZipFile(file_name) # create zipfile object\n",
    "        zip_ref.extractall(dir_name) # extract file to dir\n",
    "        zip_ref.close() # close file\n",
    "        #os.remove(file_name) # delete zipped file if you want!"
   ]
  },
  {
   "cell_type": "markdown",
   "metadata": {},
   "source": [
    "<div class=\"alert alert-danger alertdanger\" style=\"margin-top: 20px\">\n",
    "<p>Load the files into dataframes</p>"
   ]
  },
  {
   "cell_type": "code",
   "execution_count": 3,
   "metadata": {},
   "outputs": [
    {
     "data": {
      "text/plain": [
       "['C:/Users/Owner/python/ICAPdata\\\\20190101biddata_icapbids_obligation.csv',\n",
       " 'C:/Users/Owner/python/ICAPdata\\\\20190101biddata_icapbids_spot.csv',\n",
       " 'C:/Users/Owner/python/ICAPdata\\\\20190201biddata_icapbids_obligation.csv',\n",
       " 'C:/Users/Owner/python/ICAPdata\\\\20190201biddata_icapbids_spot.csv',\n",
       " 'C:/Users/Owner/python/ICAPdata\\\\20190301biddata_icapbids_obligation.csv',\n",
       " 'C:/Users/Owner/python/ICAPdata\\\\20190301biddata_icapbids_spot.csv',\n",
       " 'C:/Users/Owner/python/ICAPdata\\\\20190401biddata_icapbids_obligation.csv',\n",
       " 'C:/Users/Owner/python/ICAPdata\\\\20190401biddata_icapbids_spot.csv',\n",
       " 'C:/Users/Owner/python/ICAPdata\\\\20190501biddata_icapbids_obligation.csv',\n",
       " 'C:/Users/Owner/python/ICAPdata\\\\20190501biddata_icapbids_spot.csv',\n",
       " 'C:/Users/Owner/python/ICAPdata\\\\20190501biddata_icapbids_strip.csv',\n",
       " 'C:/Users/Owner/python/ICAPdata\\\\20190601biddata_icapbids_obligation.csv',\n",
       " 'C:/Users/Owner/python/ICAPdata\\\\20190601biddata_icapbids_spot.csv',\n",
       " 'C:/Users/Owner/python/ICAPdata\\\\20190701biddata_icapbids_obligation.csv',\n",
       " 'C:/Users/Owner/python/ICAPdata\\\\20190701biddata_icapbids_spot.csv',\n",
       " 'C:/Users/Owner/python/ICAPdata\\\\clean.csv']"
      ]
     },
     "execution_count": 3,
     "metadata": {},
     "output_type": "execute_result"
    }
   ],
   "source": [
    "path = r'C:/Users/zylwiuu/Desktop/ICAPdata'\n",
    "filenames = glob.glob(path + \"/*.csv\")\n",
    "filenames"
   ]
  },
  {
   "cell_type": "code",
   "execution_count": 4,
   "metadata": {
    "scrolled": true
   },
   "outputs": [
    {
     "data": {
      "text/plain": [
       "['df1',\n",
       " 'df2',\n",
       " 'df3',\n",
       " 'df4',\n",
       " 'df5',\n",
       " 'df6',\n",
       " 'df7',\n",
       " 'df8',\n",
       " 'df9',\n",
       " 'df10',\n",
       " 'df11',\n",
       " 'df12',\n",
       " 'df13',\n",
       " 'df14',\n",
       " 'df15',\n",
       " 'df16']"
      ]
     },
     "execution_count": 4,
     "metadata": {},
     "output_type": "execute_result"
    }
   ],
   "source": [
    "df_list = ['df' + str(item) for item in range(1, len(filenames) + 1)]\n",
    "df_list"
   ]
  },
  {
   "cell_type": "code",
   "execution_count": 5,
   "metadata": {
    "scrolled": true
   },
   "outputs": [
    {
     "data": {
      "text/html": [
       "<div>\n",
       "<style scoped>\n",
       "    .dataframe tbody tr th:only-of-type {\n",
       "        vertical-align: middle;\n",
       "    }\n",
       "\n",
       "    .dataframe tbody tr th {\n",
       "        vertical-align: top;\n",
       "    }\n",
       "\n",
       "    .dataframe thead th {\n",
       "        text-align: right;\n",
       "    }\n",
       "</style>\n",
       "<table border=\"1\" class=\"dataframe\">\n",
       "  <thead>\n",
       "    <tr style=\"text-align: right;\">\n",
       "      <th></th>\n",
       "      <th>Month_name</th>\n",
       "      <th>ORG_NAME</th>\n",
       "      <th>BID_PRICE</th>\n",
       "      <th>BID_CAPACITY</th>\n",
       "      <th>LOCATION_DESCRIPTION</th>\n",
       "    </tr>\n",
       "  </thead>\n",
       "  <tbody>\n",
       "    <tr>\n",
       "      <td>0</td>\n",
       "      <td>March</td>\n",
       "      <td>93</td>\n",
       "      <td>5</td>\n",
       "      <td>869.7</td>\n",
       "      <td>2</td>\n",
       "    </tr>\n",
       "    <tr>\n",
       "      <td>1</td>\n",
       "      <td>March</td>\n",
       "      <td>93</td>\n",
       "      <td>17.5</td>\n",
       "      <td>188.5</td>\n",
       "      <td>7</td>\n",
       "    </tr>\n",
       "    <tr>\n",
       "      <td>2</td>\n",
       "      <td>March</td>\n",
       "      <td>67</td>\n",
       "      <td>0.1</td>\n",
       "      <td>17</td>\n",
       "      <td>2</td>\n",
       "    </tr>\n",
       "    <tr>\n",
       "      <td>3</td>\n",
       "      <td>March</td>\n",
       "      <td>67</td>\n",
       "      <td>0.15</td>\n",
       "      <td>10</td>\n",
       "      <td>2</td>\n",
       "    </tr>\n",
       "    <tr>\n",
       "      <td>4</td>\n",
       "      <td>March</td>\n",
       "      <td>67</td>\n",
       "      <td>0.25</td>\n",
       "      <td>12</td>\n",
       "      <td>2</td>\n",
       "    </tr>\n",
       "  </tbody>\n",
       "</table>\n",
       "</div>"
      ],
      "text/plain": [
       "  Month_name  ORG_NAME  BID_PRICE  BID_CAPACITY  LOCATION_DESCRIPTION\n",
       "0      March        93          5         869.7                     2\n",
       "1      March        93       17.5         188.5                     7\n",
       "2      March        67        0.1            17                     2\n",
       "3      March        67       0.15            10                     2\n",
       "4      March        67       0.25            12                     2"
      ]
     },
     "execution_count": 5,
     "metadata": {},
     "output_type": "execute_result"
    }
   ],
   "source": [
    "# Load csv files into dataframes and rename them with df1, df2, df3, ..., df15\n",
    "for x, y in zip(df_list, filenames):\n",
    "    globals()[x] = pd.read_csv(y, skiprows=1)\n",
    "# Examine whether it works\n",
    "df5.head()"
   ]
  },
  {
   "cell_type": "code",
   "execution_count": 6,
   "metadata": {
    "scrolled": false
   },
   "outputs": [
    {
     "data": {
      "text/plain": [
       "array(['March', 'April', 'March 2019 Monthly Offers', 'Month_name'],\n",
       "      dtype=object)"
      ]
     },
     "execution_count": 6,
     "metadata": {},
     "output_type": "execute_result"
    }
   ],
   "source": [
    "df5['Month_name'].unique()"
   ]
  },
  {
   "cell_type": "code",
   "execution_count": 7,
   "metadata": {},
   "outputs": [],
   "source": [
    "# The Month_name in df5 is not unique"
   ]
  },
  {
   "cell_type": "markdown",
   "metadata": {},
   "source": [
    "<div class=\"alert alert-danger alertdanger\" style=\"margin-top: 20px\">\n",
    "<p>While taking the overview of the datasets, I found 'df5', that is, csv file with the name \"20190301biddata_icapbids_obligation.csv\", not only contains data in March, but also data in April.  \n",
    "    \n",
    "    So I made some adjustments, that is, removed unnecessary title row and moved the April data in 'df5' to 'df7', that is, csv file with the name \"20190401biddata_icapbids_obligation.csv\".  \n",
    "    Furthermore, in case that the moved data to April have originally contain in the df7, I checked whether there are duplicate rows in 'df7'."
   ]
  },
  {
   "cell_type": "code",
   "execution_count": 8,
   "metadata": {},
   "outputs": [
    {
     "data": {
      "text/html": [
       "<div>\n",
       "<style scoped>\n",
       "    .dataframe tbody tr th:only-of-type {\n",
       "        vertical-align: middle;\n",
       "    }\n",
       "\n",
       "    .dataframe tbody tr th {\n",
       "        vertical-align: top;\n",
       "    }\n",
       "\n",
       "    .dataframe thead th {\n",
       "        text-align: right;\n",
       "    }\n",
       "</style>\n",
       "<table border=\"1\" class=\"dataframe\">\n",
       "  <thead>\n",
       "    <tr style=\"text-align: right;\">\n",
       "      <th></th>\n",
       "      <th>Month_name</th>\n",
       "      <th>ORG_NAME</th>\n",
       "      <th>BID_PRICE</th>\n",
       "      <th>BID_CAPACITY</th>\n",
       "      <th>LOCATION_DESCRIPTION</th>\n",
       "    </tr>\n",
       "  </thead>\n",
       "  <tbody>\n",
       "    <tr>\n",
       "      <td>0</td>\n",
       "      <td>March</td>\n",
       "      <td>93</td>\n",
       "      <td>5</td>\n",
       "      <td>869.7</td>\n",
       "      <td>2</td>\n",
       "    </tr>\n",
       "    <tr>\n",
       "      <td>1</td>\n",
       "      <td>March</td>\n",
       "      <td>93</td>\n",
       "      <td>17.5</td>\n",
       "      <td>188.5</td>\n",
       "      <td>7</td>\n",
       "    </tr>\n",
       "    <tr>\n",
       "      <td>2</td>\n",
       "      <td>March</td>\n",
       "      <td>67</td>\n",
       "      <td>0.1</td>\n",
       "      <td>17</td>\n",
       "      <td>2</td>\n",
       "    </tr>\n",
       "    <tr>\n",
       "      <td>3</td>\n",
       "      <td>March</td>\n",
       "      <td>67</td>\n",
       "      <td>0.15</td>\n",
       "      <td>10</td>\n",
       "      <td>2</td>\n",
       "    </tr>\n",
       "    <tr>\n",
       "      <td>4</td>\n",
       "      <td>March</td>\n",
       "      <td>67</td>\n",
       "      <td>0.25</td>\n",
       "      <td>12</td>\n",
       "      <td>2</td>\n",
       "    </tr>\n",
       "  </tbody>\n",
       "</table>\n",
       "</div>"
      ],
      "text/plain": [
       "  Month_name  ORG_NAME  BID_PRICE  BID_CAPACITY  LOCATION_DESCRIPTION\n",
       "0      March        93          5         869.7                     2\n",
       "1      March        93       17.5         188.5                     7\n",
       "2      March        67        0.1            17                     2\n",
       "3      March        67       0.15            10                     2\n",
       "4      March        67       0.25            12                     2"
      ]
     },
     "execution_count": 8,
     "metadata": {},
     "output_type": "execute_result"
    }
   ],
   "source": [
    "df5_1 = df5.loc[(df5['Month_name'].str.contains('March')==True),:]\n",
    "df5_2 = df5.loc[(df5['Month_name'].str.contains('April')==True),:]\n",
    "df5_1.head()"
   ]
  },
  {
   "cell_type": "code",
   "execution_count": 9,
   "metadata": {},
   "outputs": [],
   "source": [
    "df7_1 = pd.concat([df5_1, df7], sort=False)"
   ]
  },
  {
   "cell_type": "code",
   "execution_count": 10,
   "metadata": {
    "scrolled": true
   },
   "outputs": [
    {
     "data": {
      "text/html": [
       "<div>\n",
       "<style scoped>\n",
       "    .dataframe tbody tr th:only-of-type {\n",
       "        vertical-align: middle;\n",
       "    }\n",
       "\n",
       "    .dataframe tbody tr th {\n",
       "        vertical-align: top;\n",
       "    }\n",
       "\n",
       "    .dataframe thead th {\n",
       "        text-align: right;\n",
       "    }\n",
       "</style>\n",
       "<table border=\"1\" class=\"dataframe\">\n",
       "  <thead>\n",
       "    <tr style=\"text-align: right;\">\n",
       "      <th></th>\n",
       "      <th>Month_name</th>\n",
       "      <th>ORG_NAME</th>\n",
       "      <th>BID_PRICE</th>\n",
       "      <th>BID_CAPACITY</th>\n",
       "      <th>LOCATION_DESCRIPTION</th>\n",
       "    </tr>\n",
       "  </thead>\n",
       "  <tbody>\n",
       "  </tbody>\n",
       "</table>\n",
       "</div>"
      ],
      "text/plain": [
       "Empty DataFrame\n",
       "Columns: [Month_name,  ORG_NAME,  BID_PRICE,  BID_CAPACITY,  LOCATION_DESCRIPTION]\n",
       "Index: []"
      ]
     },
     "execution_count": 10,
     "metadata": {},
     "output_type": "execute_result"
    }
   ],
   "source": [
    "df7_1[df7_1.duplicated()]"
   ]
  },
  {
   "cell_type": "code",
   "execution_count": 11,
   "metadata": {},
   "outputs": [],
   "source": [
    "# No duplicates!"
   ]
  },
  {
   "cell_type": "markdown",
   "metadata": {},
   "source": [
    "<div class=\"alert alert-danger alertdanger\" style=\"margin-top: 20px\">\n",
    "<p>Create a column \"AuctionType\" that will take on values \"Spot\", \"Obligation\" or \"Strip\" depending on the name in the csv file</p>"
   ]
  },
  {
   "cell_type": "code",
   "execution_count": 12,
   "metadata": {
    "scrolled": false
   },
   "outputs": [
    {
     "name": "stdout",
     "output_type": "stream",
     "text": [
      "1 obligation\n",
      "2 spot\n",
      "3 obligation\n",
      "4 spot\n",
      "5 obligation\n",
      "6 spot\n",
      "7 obligation\n",
      "8 spot\n",
      "9 obligation\n",
      "10 spot\n",
      "11 strip\n",
      "12 obligation\n",
      "13 spot\n",
      "14 obligation\n",
      "15 spot\n"
     ]
    },
    {
     "ename": "AttributeError",
     "evalue": "'NoneType' object has no attribute 'group'",
     "output_type": "error",
     "traceback": [
      "\u001b[1;31m---------------------------------------------------------------------------\u001b[0m",
      "\u001b[1;31mAttributeError\u001b[0m                            Traceback (most recent call last)",
      "\u001b[1;32m<ipython-input-12-bf86f8fa079b>\u001b[0m in \u001b[0;36m<module>\u001b[1;34m\u001b[0m\n\u001b[0;32m      4\u001b[0m \u001b[1;32mfor\u001b[0m \u001b[0mfilename\u001b[0m \u001b[1;32min\u001b[0m \u001b[0mfilenames\u001b[0m\u001b[1;33m:\u001b[0m\u001b[1;33m\u001b[0m\u001b[1;33m\u001b[0m\u001b[0m\n\u001b[0;32m      5\u001b[0m     \u001b[0mresult\u001b[0m \u001b[1;33m=\u001b[0m \u001b[0mre\u001b[0m\u001b[1;33m.\u001b[0m\u001b[0msearch\u001b[0m\u001b[1;33m(\u001b[0m\u001b[1;34m'icapbids_(.*).csv'\u001b[0m\u001b[1;33m,\u001b[0m \u001b[0mfilename\u001b[0m\u001b[1;33m)\u001b[0m\u001b[1;33m\u001b[0m\u001b[1;33m\u001b[0m\u001b[0m\n\u001b[1;32m----> 6\u001b[1;33m     \u001b[0mprint\u001b[0m\u001b[1;33m(\u001b[0m\u001b[0mi\u001b[0m\u001b[1;33m,\u001b[0m\u001b[0mresult\u001b[0m\u001b[1;33m.\u001b[0m\u001b[0mgroup\u001b[0m\u001b[1;33m(\u001b[0m\u001b[1;36m1\u001b[0m\u001b[1;33m)\u001b[0m\u001b[1;33m)\u001b[0m\u001b[1;33m\u001b[0m\u001b[1;33m\u001b[0m\u001b[0m\n\u001b[0m\u001b[0;32m      7\u001b[0m     \u001b[0mi\u001b[0m\u001b[1;33m=\u001b[0m\u001b[0mi\u001b[0m\u001b[1;33m+\u001b[0m\u001b[1;36m1\u001b[0m\u001b[1;33m\u001b[0m\u001b[1;33m\u001b[0m\u001b[0m\n",
      "\u001b[1;31mAttributeError\u001b[0m: 'NoneType' object has no attribute 'group'"
     ]
    }
   ],
   "source": [
    "import re\n",
    "new = []\n",
    "i = 1\n",
    "for filename in filenames:\n",
    "    result = re.search('icapbids_(.*).csv', filename)\n",
    "    print(i,result.group(1))\n",
    "    i=i+1\n"
   ]
  },
  {
   "cell_type": "code",
   "execution_count": 13,
   "metadata": {},
   "outputs": [],
   "source": [
    "df1['AuctionType'] = 'Obligation'\n",
    "df2['AuctionType'] = 'Spot'\n",
    "df3['AuctionType'] = 'Obligation'\n",
    "df4['AuctionType'] = 'Spot'\n",
    "df5['AuctionType'] = 'Obligation'\n",
    "df6['AuctionType'] = 'Spot'\n",
    "df7['AuctionType'] = 'Obligation'\n",
    "df8['AuctionType'] = 'Spot'\n",
    "df9['AuctionType'] = 'Obligation'\n",
    "df10['AuctionType'] = 'Spot'\n",
    "df11['AuctionType'] = 'Strip'\n",
    "df12['AuctionType'] = 'Obligation'\n",
    "df13['AuctionType'] = 'Spot'\n",
    "df14['AuctionType'] = 'Obligation'\n",
    "df15['AuctionType'] = 'Spot'"
   ]
  },
  {
   "cell_type": "markdown",
   "metadata": {},
   "source": [
    "<div class=\"alert alert-danger alertdanger\" style=\"margin-top: 20px\">\n",
    "<p>Merge the dataframes</p>"
   ]
  },
  {
   "cell_type": "code",
   "execution_count": 14,
   "metadata": {
    "scrolled": false
   },
   "outputs": [
    {
     "name": "stdout",
     "output_type": "stream",
     "text": [
      "(17743, 8)\n",
      "Index(['Month_name', ' ORG_NAME', ' BID_PRICE', ' BID_CAPACITY',\n",
      "       ' LOCATION_DESCRIPTION', 'AuctionType', ' OFFER_PRICE',\n",
      "       ' OFFER_CAPACITY'],\n",
      "      dtype='object')\n"
     ]
    },
    {
     "data": {
      "text/html": [
       "<div>\n",
       "<style scoped>\n",
       "    .dataframe tbody tr th:only-of-type {\n",
       "        vertical-align: middle;\n",
       "    }\n",
       "\n",
       "    .dataframe tbody tr th {\n",
       "        vertical-align: top;\n",
       "    }\n",
       "\n",
       "    .dataframe thead th {\n",
       "        text-align: right;\n",
       "    }\n",
       "</style>\n",
       "<table border=\"1\" class=\"dataframe\">\n",
       "  <thead>\n",
       "    <tr style=\"text-align: right;\">\n",
       "      <th></th>\n",
       "      <th>Month_name</th>\n",
       "      <th>ORG_NAME</th>\n",
       "      <th>BID_PRICE</th>\n",
       "      <th>BID_CAPACITY</th>\n",
       "      <th>LOCATION_DESCRIPTION</th>\n",
       "      <th>AuctionType</th>\n",
       "      <th>OFFER_PRICE</th>\n",
       "      <th>OFFER_CAPACITY</th>\n",
       "    </tr>\n",
       "  </thead>\n",
       "  <tbody>\n",
       "    <tr>\n",
       "      <td>0</td>\n",
       "      <td>January</td>\n",
       "      <td>93</td>\n",
       "      <td>5</td>\n",
       "      <td>849.9</td>\n",
       "      <td>2</td>\n",
       "      <td>Obligation</td>\n",
       "      <td>NaN</td>\n",
       "      <td>NaN</td>\n",
       "    </tr>\n",
       "    <tr>\n",
       "      <td>1</td>\n",
       "      <td>January</td>\n",
       "      <td>93</td>\n",
       "      <td>17.5</td>\n",
       "      <td>186.9</td>\n",
       "      <td>7</td>\n",
       "      <td>Obligation</td>\n",
       "      <td>NaN</td>\n",
       "      <td>NaN</td>\n",
       "    </tr>\n",
       "    <tr>\n",
       "      <td>2</td>\n",
       "      <td>January</td>\n",
       "      <td>67</td>\n",
       "      <td>0.05</td>\n",
       "      <td>35</td>\n",
       "      <td>2</td>\n",
       "      <td>Obligation</td>\n",
       "      <td>NaN</td>\n",
       "      <td>NaN</td>\n",
       "    </tr>\n",
       "    <tr>\n",
       "      <td>3</td>\n",
       "      <td>January</td>\n",
       "      <td>67</td>\n",
       "      <td>0.1</td>\n",
       "      <td>33</td>\n",
       "      <td>2</td>\n",
       "      <td>Obligation</td>\n",
       "      <td>NaN</td>\n",
       "      <td>NaN</td>\n",
       "    </tr>\n",
       "    <tr>\n",
       "      <td>4</td>\n",
       "      <td>January</td>\n",
       "      <td>67</td>\n",
       "      <td>0.15</td>\n",
       "      <td>29</td>\n",
       "      <td>2</td>\n",
       "      <td>Obligation</td>\n",
       "      <td>NaN</td>\n",
       "      <td>NaN</td>\n",
       "    </tr>\n",
       "  </tbody>\n",
       "</table>\n",
       "</div>"
      ],
      "text/plain": [
       "  Month_name  ORG_NAME  BID_PRICE  BID_CAPACITY  LOCATION_DESCRIPTION  \\\n",
       "0    January        93          5         849.9                     2   \n",
       "1    January        93       17.5         186.9                     7   \n",
       "2    January        67       0.05            35                     2   \n",
       "3    January        67        0.1            33                     2   \n",
       "4    January        67       0.15            29                     2   \n",
       "\n",
       "  AuctionType   OFFER_PRICE   OFFER_CAPACITY  \n",
       "0  Obligation           NaN              NaN  \n",
       "1  Obligation           NaN              NaN  \n",
       "2  Obligation           NaN              NaN  \n",
       "3  Obligation           NaN              NaN  \n",
       "4  Obligation           NaN              NaN  "
      ]
     },
     "execution_count": 14,
     "metadata": {},
     "output_type": "execute_result"
    }
   ],
   "source": [
    "pdList = [df1, df2, df3, df4, df5, df6, df7, df8, df9, df10, df11, df12, df13, df14, df15]  # List of dataframes\n",
    "new_df = pd.concat(pdList,sort=False)\n",
    "print(new_df.shape)\n",
    "print(new_df.columns)\n",
    "new_df.head()"
   ]
  },
  {
   "cell_type": "code",
   "execution_count": 15,
   "metadata": {},
   "outputs": [],
   "source": [
    "new_df = new_df[['Month_name', ' ORG_NAME', ' BID_PRICE', ' BID_CAPACITY',\n",
    "       ' LOCATION_DESCRIPTION', ' OFFER_PRICE', ' OFFER_CAPACITY',  'AuctionType']]"
   ]
  },
  {
   "cell_type": "markdown",
   "metadata": {},
   "source": [
    "<div class=\"alert alert-danger alertdanger\" style=\"margin-top: 20px\">\n",
    "<p>Check for duplicates again! There are 1203 duplicate rows and I dropped them. </p> "
   ]
  },
  {
   "cell_type": "code",
   "execution_count": 16,
   "metadata": {},
   "outputs": [
    {
     "data": {
      "text/html": [
       "<div>\n",
       "<style scoped>\n",
       "    .dataframe tbody tr th:only-of-type {\n",
       "        vertical-align: middle;\n",
       "    }\n",
       "\n",
       "    .dataframe tbody tr th {\n",
       "        vertical-align: top;\n",
       "    }\n",
       "\n",
       "    .dataframe thead th {\n",
       "        text-align: right;\n",
       "    }\n",
       "</style>\n",
       "<table border=\"1\" class=\"dataframe\">\n",
       "  <thead>\n",
       "    <tr style=\"text-align: right;\">\n",
       "      <th></th>\n",
       "      <th>Month_name</th>\n",
       "      <th>ORG_NAME</th>\n",
       "      <th>BID_PRICE</th>\n",
       "      <th>BID_CAPACITY</th>\n",
       "      <th>LOCATION_DESCRIPTION</th>\n",
       "      <th>OFFER_PRICE</th>\n",
       "      <th>OFFER_CAPACITY</th>\n",
       "      <th>AuctionType</th>\n",
       "    </tr>\n",
       "  </thead>\n",
       "  <tbody>\n",
       "    <tr>\n",
       "      <td>48</td>\n",
       "      <td>January</td>\n",
       "      <td>1123</td>\n",
       "      <td>NaN</td>\n",
       "      <td>NaN</td>\n",
       "      <td>2</td>\n",
       "      <td>0.00</td>\n",
       "      <td>108.1</td>\n",
       "      <td>Spot</td>\n",
       "    </tr>\n",
       "    <tr>\n",
       "      <td>91</td>\n",
       "      <td>January</td>\n",
       "      <td>1029</td>\n",
       "      <td>NaN</td>\n",
       "      <td>NaN</td>\n",
       "      <td>2</td>\n",
       "      <td>0.01</td>\n",
       "      <td>11.2</td>\n",
       "      <td>Spot</td>\n",
       "    </tr>\n",
       "    <tr>\n",
       "      <td>163</td>\n",
       "      <td>January</td>\n",
       "      <td>1180</td>\n",
       "      <td>NaN</td>\n",
       "      <td>NaN</td>\n",
       "      <td>1</td>\n",
       "      <td>0.00</td>\n",
       "      <td>0.1</td>\n",
       "      <td>Spot</td>\n",
       "    </tr>\n",
       "    <tr>\n",
       "      <td>164</td>\n",
       "      <td>January</td>\n",
       "      <td>1180</td>\n",
       "      <td>NaN</td>\n",
       "      <td>NaN</td>\n",
       "      <td>1</td>\n",
       "      <td>0.00</td>\n",
       "      <td>2.0</td>\n",
       "      <td>Spot</td>\n",
       "    </tr>\n",
       "    <tr>\n",
       "      <td>167</td>\n",
       "      <td>January</td>\n",
       "      <td>1180</td>\n",
       "      <td>NaN</td>\n",
       "      <td>NaN</td>\n",
       "      <td>1</td>\n",
       "      <td>0.00</td>\n",
       "      <td>0.2</td>\n",
       "      <td>Spot</td>\n",
       "    </tr>\n",
       "    <tr>\n",
       "      <td>...</td>\n",
       "      <td>...</td>\n",
       "      <td>...</td>\n",
       "      <td>...</td>\n",
       "      <td>...</td>\n",
       "      <td>...</td>\n",
       "      <td>...</td>\n",
       "      <td>...</td>\n",
       "      <td>...</td>\n",
       "    </tr>\n",
       "    <tr>\n",
       "      <td>132</td>\n",
       "      <td>July</td>\n",
       "      <td>1069</td>\n",
       "      <td>NaN</td>\n",
       "      <td>NaN</td>\n",
       "      <td>1</td>\n",
       "      <td>0.00</td>\n",
       "      <td>89.5</td>\n",
       "      <td>Spot</td>\n",
       "    </tr>\n",
       "    <tr>\n",
       "      <td>164</td>\n",
       "      <td>July</td>\n",
       "      <td>1180</td>\n",
       "      <td>NaN</td>\n",
       "      <td>NaN</td>\n",
       "      <td>7</td>\n",
       "      <td>0.00</td>\n",
       "      <td>0.5</td>\n",
       "      <td>Spot</td>\n",
       "    </tr>\n",
       "    <tr>\n",
       "      <td>166</td>\n",
       "      <td>July</td>\n",
       "      <td>1180</td>\n",
       "      <td>NaN</td>\n",
       "      <td>NaN</td>\n",
       "      <td>7</td>\n",
       "      <td>0.00</td>\n",
       "      <td>0.2</td>\n",
       "      <td>Spot</td>\n",
       "    </tr>\n",
       "    <tr>\n",
       "      <td>174</td>\n",
       "      <td>July</td>\n",
       "      <td>1236</td>\n",
       "      <td>NaN</td>\n",
       "      <td>NaN</td>\n",
       "      <td>1</td>\n",
       "      <td>0.00</td>\n",
       "      <td>58.0</td>\n",
       "      <td>Spot</td>\n",
       "    </tr>\n",
       "    <tr>\n",
       "      <td>176</td>\n",
       "      <td>July</td>\n",
       "      <td>1236</td>\n",
       "      <td>NaN</td>\n",
       "      <td>NaN</td>\n",
       "      <td>1</td>\n",
       "      <td>0.00</td>\n",
       "      <td>58.0</td>\n",
       "      <td>Spot</td>\n",
       "    </tr>\n",
       "  </tbody>\n",
       "</table>\n",
       "<p>1203 rows × 8 columns</p>\n",
       "</div>"
      ],
      "text/plain": [
       "    Month_name  ORG_NAME  BID_PRICE  BID_CAPACITY  LOCATION_DESCRIPTION  \\\n",
       "48     January      1123        NaN           NaN                     2   \n",
       "91     January      1029        NaN           NaN                     2   \n",
       "163    January      1180        NaN           NaN                     1   \n",
       "164    January      1180        NaN           NaN                     1   \n",
       "167    January      1180        NaN           NaN                     1   \n",
       "..         ...       ...        ...           ...                   ...   \n",
       "132       July      1069        NaN           NaN                     1   \n",
       "164       July      1180        NaN           NaN                     7   \n",
       "166       July      1180        NaN           NaN                     7   \n",
       "174       July      1236        NaN           NaN                     1   \n",
       "176       July      1236        NaN           NaN                     1   \n",
       "\n",
       "      OFFER_PRICE   OFFER_CAPACITY AuctionType  \n",
       "48           0.00            108.1        Spot  \n",
       "91           0.01             11.2        Spot  \n",
       "163          0.00              0.1        Spot  \n",
       "164          0.00              2.0        Spot  \n",
       "167          0.00              0.2        Spot  \n",
       "..            ...              ...         ...  \n",
       "132          0.00             89.5        Spot  \n",
       "164          0.00              0.5        Spot  \n",
       "166          0.00              0.2        Spot  \n",
       "174          0.00             58.0        Spot  \n",
       "176          0.00             58.0        Spot  \n",
       "\n",
       "[1203 rows x 8 columns]"
      ]
     },
     "execution_count": 16,
     "metadata": {},
     "output_type": "execute_result"
    }
   ],
   "source": [
    "new_df[new_df.duplicated()]"
   ]
  },
  {
   "cell_type": "code",
   "execution_count": 17,
   "metadata": {
    "scrolled": true
   },
   "outputs": [
    {
     "data": {
      "text/plain": [
       "(17743, 8)"
      ]
     },
     "execution_count": 17,
     "metadata": {},
     "output_type": "execute_result"
    }
   ],
   "source": [
    "new_df.shape"
   ]
  },
  {
   "cell_type": "code",
   "execution_count": 18,
   "metadata": {},
   "outputs": [
    {
     "data": {
      "text/plain": [
       "(16540, 8)"
      ]
     },
     "execution_count": 18,
     "metadata": {},
     "output_type": "execute_result"
    }
   ],
   "source": [
    "new_df = new_df.drop_duplicates()\n",
    "new_df.shape"
   ]
  },
  {
   "cell_type": "markdown",
   "metadata": {},
   "source": [
    "<div class=\"alert alert-danger alertdanger\" style=\"margin-top: 20px\">\n",
    "<p>Save the cleaned csv file under the path \"C:\\Users\\zylwiuu\\Desktop\\ICAPdata\"</p>"
   ]
  },
  {
   "cell_type": "code",
   "execution_count": 19,
   "metadata": {},
   "outputs": [],
   "source": [
    "new_df.to_csv('clean.csv',index=False)"
   ]
  },
  {
   "cell_type": "code",
   "execution_count": null,
   "metadata": {},
   "outputs": [],
   "source": []
  }
 ],
 "metadata": {
  "kernelspec": {
   "display_name": "Python 3",
   "language": "python",
   "name": "python3"
  },
  "language_info": {
   "codemirror_mode": {
    "name": "ipython",
    "version": 3
   },
   "file_extension": ".py",
   "mimetype": "text/x-python",
   "name": "python",
   "nbconvert_exporter": "python",
   "pygments_lexer": "ipython3",
   "version": "3.7.4"
  }
 },
 "nbformat": 4,
 "nbformat_minor": 2
}
